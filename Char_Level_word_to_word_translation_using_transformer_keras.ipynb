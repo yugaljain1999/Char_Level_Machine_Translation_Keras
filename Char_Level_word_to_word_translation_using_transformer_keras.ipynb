{
  "nbformat": 4,
  "nbformat_minor": 0,
  "metadata": {
    "colab": {
      "name": "Copy of Char Transformer keras.ipynb",
      "provenance": [],
      "collapsed_sections": []
    },
    "kernelspec": {
      "name": "python3",
      "display_name": "Python 3"
    }
  },
  "cells": [
    {
      "cell_type": "code",
      "metadata": {
        "id": "QPDKx6bo3FBB"
      },
      "source": [
        "!pip install keras-transformer\n",
        "import keras_transformer\n",
        "from keras_transformer import get_model,decode"
      ],
      "execution_count": null,
      "outputs": []
    },
    {
      "cell_type": "code",
      "metadata": {
        "colab": {
          "base_uri": "https://localhost:8080/"
        },
        "id": "9ZlPwt6p4J4Q",
        "outputId": "857a11d2-f42b-4a45-ea40-25078acede8e"
      },
      "source": [
        "%cd /content/drive/MyDrive/\n",
        "import pandas as pd\n",
        "with open('min-ind3.txt','r') as file:\n",
        "  source_tokens = []\n",
        "  target_tokens = []\n",
        "  for f in file.readlines():\n",
        "    f = f.replace('\\n','')\n",
        "    #print(list(f))\n",
        "    ls_source = []\n",
        "    ls_source.append(f.split(',')[0])\n",
        "    source_tokens.append(ls_source)\n",
        "    ls_target = []\n",
        "    ls_target.append(f.split(',')[1])\n",
        "    target_tokens.append(ls_target)"
      ],
      "execution_count": null,
      "outputs": [
        {
          "output_type": "stream",
          "text": [
            "/content/drive/MyDrive\n"
          ],
          "name": "stdout"
        }
      ]
    },
    {
      "cell_type": "code",
      "metadata": {
        "id": "uPFweXnR8g1A"
      },
      "source": [
        "## Here to test we are using just 10 samples out of 14013 samples ##\n",
        "## TO TRAIN ON WHOLE DATA IT WILL TAKE TIME SO COMMENT DOWN BELOW TWO LINES TO TRAIN ON WHOLE DATA ##\n",
        "### Split target and source tokens ###\n",
        "import sklearn\n",
        "from sklearn.model_selection import train_test_split\n",
        "x_train,x_test,y_train,y_test = train_test_split(source_tokens,target_tokens,test_size = 0.2)\n",
        "x_train,x_val,y_train,y_val = train_test_split(x_train,y_train,test_size = 0.25)\n",
        "target_tokens = x_train[:10]\n",
        "source_tokens = y_train[:10]"
      ],
      "execution_count": null,
      "outputs": []
    },
    {
      "cell_type": "code",
      "metadata": {
        "colab": {
          "base_uri": "https://localhost:8080/",
          "height": 1000
        },
        "id": "dwI2ZoO03V9Z",
        "outputId": "049325e0-8955-4d57-d218-de41acfb59ac"
      },
      "source": [
        "import numpy as np\n",
        "import matplotlib.pyplot as plt\n",
        "import tensorflow\n",
        "from tensorflow import keras\n",
        "%matplotlib inline\n",
        "#from sklearn.model_selection import KFold\n",
        "#kf = KFold(n_splits=5)\n",
        "# Generate dictionaries\n",
        "def build_token_dict(token_list):\n",
        "    token_dict = {\n",
        "        '<PAD>': 0,\n",
        "        '<START>': 1,\n",
        "        '<END>': 2,\n",
        "    }\n",
        "    for tokens in token_list:\n",
        "        for token in tokens:\n",
        "            if token not in token_dict:\n",
        "                token_dict[token] = len(token_dict)\n",
        "    return token_dict\n",
        "\n",
        "source_token_dict = build_token_dict(source_tokens)\n",
        "target_token_dict = build_token_dict(target_tokens)\n",
        "target_token_dict_inv = {v: k for k, v in target_token_dict.items()}\n",
        "\n",
        "# Add special tokens\n",
        "encode_tokens = [['<START>'] + tokens + ['<END>'] for tokens in source_tokens]\n",
        "decode_tokens = [['<START>'] + tokens + ['<END>'] for tokens in target_tokens]\n",
        "output_tokens = [tokens + ['<END>', '<PAD>'] for tokens in target_tokens]\n",
        "\n",
        "# Padding\n",
        "source_max_len = max(map(len, encode_tokens))\n",
        "target_max_len = max(map(len, decode_tokens))\n",
        "\n",
        "encode_tokens = [tokens + ['<PAD>'] * (source_max_len - len(tokens)) for tokens in encode_tokens]\n",
        "decode_tokens = [tokens + ['<PAD>'] * (target_max_len - len(tokens)) for tokens in decode_tokens]\n",
        "output_tokens = [tokens + ['<PAD>'] * (target_max_len - len(tokens)) for tokens in output_tokens]\n",
        "\n",
        "encode_input = [list(map(lambda x: source_token_dict[x], tokens)) for tokens in encode_tokens]\n",
        "decode_input = [list(map(lambda x: target_token_dict[x], tokens)) for tokens in decode_tokens]\n",
        "decode_output = [list(map(lambda x: [target_token_dict[x]], tokens)) for tokens in output_tokens]\n",
        "\n",
        "# Build & fit model\n",
        "model = get_model(\n",
        "    token_num=max(len(source_token_dict), len(target_token_dict)),\n",
        "    embed_dim=32,\n",
        "    encoder_num=2,\n",
        "    decoder_num=2,\n",
        "    head_num=4,\n",
        "    hidden_dim=128,\n",
        "    dropout_rate=0.05,\n",
        "    use_same_embed=False,  # Use different embeddings for different languages\n",
        ")\n",
        "model.compile('adam', 'sparse_categorical_crossentropy',metrics=[\"accuracy\"])\n",
        "model.summary()\n",
        "\n",
        "#encode_input_val = pd\n",
        "\n",
        "results = model.fit(\n",
        "    x=[np.array(encode_input * 1024), np.array(decode_input * 1024)],\n",
        "    y=np.array(decode_output * 1024),\n",
        "    epochs=10,\n",
        "    batch_size=32,\n",
        "    validation_split=0.25\n",
        ")\n",
        "plt.plot(results.history['accuracy'])\n",
        "plt.plot(results.history['val_accuracy'])\n",
        "plt.xlabel('epochs')\n",
        "plt.ylabel('accuracy')\n",
        "#plt.legend(['train','val'],loc='upper right')\n",
        "plt.title('Model Accuracy')\n",
        "plt.show()\n",
        "\n",
        "model.save('char_transformer_f')\n"
      ],
      "execution_count": null,
      "outputs": [
        {
          "output_type": "stream",
          "text": [
            "Model: \"model_3\"\n",
            "__________________________________________________________________________________________________\n",
            "Layer (type)                    Output Shape         Param #     Connected to                     \n",
            "==================================================================================================\n",
            "Encoder-Input (InputLayer)      [(None, None)]       0                                            \n",
            "__________________________________________________________________________________________________\n",
            "Encoder-Token-Embedding (Embedd [(None, None, 32), ( 416         Encoder-Input[0][0]              \n",
            "__________________________________________________________________________________________________\n",
            "Encoder-Embedding (TrigPosEmbed (None, None, 32)     0           Encoder-Token-Embedding[0][0]    \n",
            "__________________________________________________________________________________________________\n",
            "Encoder-1-MultiHeadSelfAttentio (None, None, 32)     4224        Encoder-Embedding[0][0]          \n",
            "__________________________________________________________________________________________________\n",
            "Encoder-1-MultiHeadSelfAttentio (None, None, 32)     0           Encoder-1-MultiHeadSelfAttention[\n",
            "__________________________________________________________________________________________________\n",
            "Encoder-1-MultiHeadSelfAttentio (None, None, 32)     0           Encoder-Embedding[0][0]          \n",
            "                                                                 Encoder-1-MultiHeadSelfAttention-\n",
            "__________________________________________________________________________________________________\n",
            "Encoder-1-MultiHeadSelfAttentio (None, None, 32)     64          Encoder-1-MultiHeadSelfAttention-\n",
            "__________________________________________________________________________________________________\n",
            "Encoder-1-FeedForward (FeedForw (None, None, 32)     8352        Encoder-1-MultiHeadSelfAttention-\n",
            "__________________________________________________________________________________________________\n",
            "Encoder-1-FeedForward-Dropout ( (None, None, 32)     0           Encoder-1-FeedForward[0][0]      \n",
            "__________________________________________________________________________________________________\n",
            "Encoder-1-FeedForward-Add (Add) (None, None, 32)     0           Encoder-1-MultiHeadSelfAttention-\n",
            "                                                                 Encoder-1-FeedForward-Dropout[0][\n",
            "__________________________________________________________________________________________________\n",
            "Encoder-1-FeedForward-Norm (Lay (None, None, 32)     64          Encoder-1-FeedForward-Add[0][0]  \n",
            "__________________________________________________________________________________________________\n",
            "Encoder-2-MultiHeadSelfAttentio (None, None, 32)     4224        Encoder-1-FeedForward-Norm[0][0] \n",
            "__________________________________________________________________________________________________\n",
            "Decoder-Input (InputLayer)      [(None, None)]       0                                            \n",
            "__________________________________________________________________________________________________\n",
            "Encoder-2-MultiHeadSelfAttentio (None, None, 32)     0           Encoder-2-MultiHeadSelfAttention[\n",
            "__________________________________________________________________________________________________\n",
            "Decoder-Token-Embedding (Embedd [(None, None, 32), ( 416         Decoder-Input[0][0]              \n",
            "__________________________________________________________________________________________________\n",
            "Encoder-2-MultiHeadSelfAttentio (None, None, 32)     0           Encoder-1-FeedForward-Norm[0][0] \n",
            "                                                                 Encoder-2-MultiHeadSelfAttention-\n",
            "__________________________________________________________________________________________________\n",
            "Decoder-Embedding (TrigPosEmbed (None, None, 32)     0           Decoder-Token-Embedding[0][0]    \n",
            "__________________________________________________________________________________________________\n",
            "Encoder-2-MultiHeadSelfAttentio (None, None, 32)     64          Encoder-2-MultiHeadSelfAttention-\n",
            "__________________________________________________________________________________________________\n",
            "Decoder-1-MultiHeadSelfAttentio (None, None, 32)     4224        Decoder-Embedding[0][0]          \n",
            "__________________________________________________________________________________________________\n",
            "Encoder-2-FeedForward (FeedForw (None, None, 32)     8352        Encoder-2-MultiHeadSelfAttention-\n",
            "__________________________________________________________________________________________________\n",
            "Decoder-1-MultiHeadSelfAttentio (None, None, 32)     0           Decoder-1-MultiHeadSelfAttention[\n",
            "__________________________________________________________________________________________________\n",
            "Encoder-2-FeedForward-Dropout ( (None, None, 32)     0           Encoder-2-FeedForward[0][0]      \n",
            "__________________________________________________________________________________________________\n",
            "Decoder-1-MultiHeadSelfAttentio (None, None, 32)     0           Decoder-Embedding[0][0]          \n",
            "                                                                 Decoder-1-MultiHeadSelfAttention-\n",
            "__________________________________________________________________________________________________\n",
            "Encoder-2-FeedForward-Add (Add) (None, None, 32)     0           Encoder-2-MultiHeadSelfAttention-\n",
            "                                                                 Encoder-2-FeedForward-Dropout[0][\n",
            "__________________________________________________________________________________________________\n",
            "Decoder-1-MultiHeadSelfAttentio (None, None, 32)     64          Decoder-1-MultiHeadSelfAttention-\n",
            "__________________________________________________________________________________________________\n",
            "Encoder-2-FeedForward-Norm (Lay (None, None, 32)     64          Encoder-2-FeedForward-Add[0][0]  \n",
            "__________________________________________________________________________________________________\n",
            "Decoder-1-MultiHeadQueryAttenti (None, None, 32)     4224        Decoder-1-MultiHeadSelfAttention-\n",
            "                                                                 Encoder-2-FeedForward-Norm[0][0] \n",
            "                                                                 Encoder-2-FeedForward-Norm[0][0] \n",
            "__________________________________________________________________________________________________\n",
            "Decoder-1-MultiHeadQueryAttenti (None, None, 32)     0           Decoder-1-MultiHeadQueryAttention\n",
            "__________________________________________________________________________________________________\n",
            "Decoder-1-MultiHeadQueryAttenti (None, None, 32)     0           Decoder-1-MultiHeadSelfAttention-\n",
            "                                                                 Decoder-1-MultiHeadQueryAttention\n",
            "__________________________________________________________________________________________________\n",
            "Decoder-1-MultiHeadQueryAttenti (None, None, 32)     64          Decoder-1-MultiHeadQueryAttention\n",
            "__________________________________________________________________________________________________\n",
            "Decoder-1-FeedForward (FeedForw (None, None, 32)     8352        Decoder-1-MultiHeadQueryAttention\n",
            "__________________________________________________________________________________________________\n",
            "Decoder-1-FeedForward-Dropout ( (None, None, 32)     0           Decoder-1-FeedForward[0][0]      \n",
            "__________________________________________________________________________________________________\n",
            "Decoder-1-FeedForward-Add (Add) (None, None, 32)     0           Decoder-1-MultiHeadQueryAttention\n",
            "                                                                 Decoder-1-FeedForward-Dropout[0][\n",
            "__________________________________________________________________________________________________\n",
            "Decoder-1-FeedForward-Norm (Lay (None, None, 32)     64          Decoder-1-FeedForward-Add[0][0]  \n",
            "__________________________________________________________________________________________________\n",
            "Decoder-2-MultiHeadSelfAttentio (None, None, 32)     4224        Decoder-1-FeedForward-Norm[0][0] \n",
            "__________________________________________________________________________________________________\n",
            "Decoder-2-MultiHeadSelfAttentio (None, None, 32)     0           Decoder-2-MultiHeadSelfAttention[\n",
            "__________________________________________________________________________________________________\n",
            "Decoder-2-MultiHeadSelfAttentio (None, None, 32)     0           Decoder-1-FeedForward-Norm[0][0] \n",
            "                                                                 Decoder-2-MultiHeadSelfAttention-\n",
            "__________________________________________________________________________________________________\n",
            "Decoder-2-MultiHeadSelfAttentio (None, None, 32)     64          Decoder-2-MultiHeadSelfAttention-\n",
            "__________________________________________________________________________________________________\n",
            "Decoder-2-MultiHeadQueryAttenti (None, None, 32)     4224        Decoder-2-MultiHeadSelfAttention-\n",
            "                                                                 Encoder-2-FeedForward-Norm[0][0] \n",
            "                                                                 Encoder-2-FeedForward-Norm[0][0] \n",
            "__________________________________________________________________________________________________\n",
            "Decoder-2-MultiHeadQueryAttenti (None, None, 32)     0           Decoder-2-MultiHeadQueryAttention\n",
            "__________________________________________________________________________________________________\n",
            "Decoder-2-MultiHeadQueryAttenti (None, None, 32)     0           Decoder-2-MultiHeadSelfAttention-\n",
            "                                                                 Decoder-2-MultiHeadQueryAttention\n",
            "__________________________________________________________________________________________________\n",
            "Decoder-2-MultiHeadQueryAttenti (None, None, 32)     64          Decoder-2-MultiHeadQueryAttention\n",
            "__________________________________________________________________________________________________\n",
            "Decoder-2-FeedForward (FeedForw (None, None, 32)     8352        Decoder-2-MultiHeadQueryAttention\n",
            "__________________________________________________________________________________________________\n",
            "Decoder-2-FeedForward-Dropout ( (None, None, 32)     0           Decoder-2-FeedForward[0][0]      \n",
            "__________________________________________________________________________________________________\n",
            "Decoder-2-FeedForward-Add (Add) (None, None, 32)     0           Decoder-2-MultiHeadQueryAttention\n",
            "                                                                 Decoder-2-FeedForward-Dropout[0][\n",
            "__________________________________________________________________________________________________\n",
            "Decoder-2-FeedForward-Norm (Lay (None, None, 32)     64          Decoder-2-FeedForward-Add[0][0]  \n",
            "__________________________________________________________________________________________________\n",
            "Decoder-Output (EmbeddingSim)   (None, None, 13)     13          Decoder-2-FeedForward-Norm[0][0] \n",
            "                                                                 Decoder-Token-Embedding[0][1]    \n",
            "==================================================================================================\n",
            "Total params: 60,237\n",
            "Trainable params: 60,237\n",
            "Non-trainable params: 0\n",
            "__________________________________________________________________________________________________\n",
            "Epoch 1/10\n",
            "240/240 [==============================] - 13s 24ms/step - loss: 1.4914 - accuracy: 0.5774 - val_loss: 0.2707 - val_accuracy: 1.0000\n",
            "Epoch 2/10\n",
            "240/240 [==============================] - 3s 13ms/step - loss: 0.1398 - accuracy: 1.0000 - val_loss: 0.0148 - val_accuracy: 1.0000\n",
            "Epoch 3/10\n",
            "240/240 [==============================] - 3s 13ms/step - loss: 0.0142 - accuracy: 1.0000 - val_loss: 0.0054 - val_accuracy: 1.0000\n",
            "Epoch 4/10\n",
            "240/240 [==============================] - 3s 12ms/step - loss: 0.0059 - accuracy: 1.0000 - val_loss: 0.0028 - val_accuracy: 1.0000\n",
            "Epoch 5/10\n",
            "240/240 [==============================] - 3s 13ms/step - loss: 0.0033 - accuracy: 1.0000 - val_loss: 0.0018 - val_accuracy: 1.0000\n",
            "Epoch 6/10\n",
            "240/240 [==============================] - 3s 13ms/step - loss: 0.0021 - accuracy: 1.0000 - val_loss: 0.0012 - val_accuracy: 1.0000\n",
            "Epoch 7/10\n",
            "240/240 [==============================] - 3s 13ms/step - loss: 0.0015 - accuracy: 1.0000 - val_loss: 8.4709e-04 - val_accuracy: 1.0000\n",
            "Epoch 8/10\n",
            "240/240 [==============================] - 3s 12ms/step - loss: 0.0011 - accuracy: 1.0000 - val_loss: 6.3060e-04 - val_accuracy: 1.0000\n",
            "Epoch 9/10\n",
            "240/240 [==============================] - 3s 13ms/step - loss: 8.0311e-04 - accuracy: 1.0000 - val_loss: 4.8306e-04 - val_accuracy: 1.0000\n",
            "Epoch 10/10\n",
            "240/240 [==============================] - 3s 13ms/step - loss: 6.1964e-04 - accuracy: 1.0000 - val_loss: 3.7881e-04 - val_accuracy: 1.0000\n"
          ],
          "name": "stdout"
        },
        {
          "output_type": "display_data",
          "data": {
            "image/png": "[encoded data removed]",
            "text/plain": [
              "<Figure size 432x288 with 1 Axes>"
            ]
          },
          "metadata": {
            "tags": [],
            "needs_background": "light"
          }
        },
        {
          "output_type": "stream",
          "text": [
            "INFO:tensorflow:Assets written to: char_transformer_f/assets\n"
          ],
          "name": "stdout"
        }
      ]
    },
    {
      "cell_type": "code",
      "metadata": {
        "id": "ZrnFgv6igDWu"
      },
      "source": [
        "# Testing data #\n",
        "source_tokens = x_test[:10]\n",
        "target_tokens = y_test[:10]\n",
        "source_token_dict = build_token_dict(source_tokens)\n",
        "target_token_dict = build_token_dict(target_tokens)\n",
        "target_token_dict_inv = {v: k for k, v in target_token_dict.items()}\n",
        "\n",
        "# Add special tokens\n",
        "encode_tokens = [['<START>'] + tokens + ['<END>'] for tokens in source_tokens]\n",
        "decode_tokens = [['<START>'] + tokens + ['<END>'] for tokens in target_tokens]\n",
        "output_tokens = [tokens + ['<END>', '<PAD>'] for tokens in target_tokens]\n",
        "\n",
        "# Padding\n",
        "source_max_len = max(map(len, encode_tokens))\n",
        "target_max_len = max(map(len, decode_tokens))\n",
        "\n",
        "encode_tokens = [tokens + ['<PAD>'] * (source_max_len - len(tokens)) for tokens in encode_tokens]\n",
        "decode_tokens = [tokens + ['<PAD>'] * (target_max_len - len(tokens)) for tokens in decode_tokens]\n",
        "output_tokens = [tokens + ['<PAD>'] * (target_max_len - len(tokens)) for tokens in output_tokens]\n",
        "\n",
        "encode_input = [list(map(lambda x: source_token_dict[x], tokens)) for tokens in encode_tokens]\n",
        "decode_input = [list(map(lambda x: target_token_dict[x], tokens)) for tokens in decode_tokens]\n",
        "decode_output = [list(map(lambda x: [target_token_dict[x]], tokens)) for tokens in output_tokens]\n"
      ],
      "execution_count": null,
      "outputs": []
    },
    {
      "cell_type": "code",
      "metadata": {
        "colab": {
          "base_uri": "https://localhost:8080/"
        },
        "id": "rbCqFujfDgOc",
        "outputId": "afc21305-a9a8-4ee2-c1a4-4053cf704273"
      },
      "source": [
        "#model = keras.models.load_model('char_transformer_f')\n",
        "# Predict\n",
        "decoded = decode(\n",
        "    model,\n",
        "    encode_input,\n",
        "    start_token=target_token_dict['<START>'],\n",
        "    end_token=target_token_dict['<END>'],\n",
        "    pad_token=target_token_dict['<PAD>'],\n",
        ")\n",
        "print(''.join(map(lambda x: target_token_dict_inv[x], decoded[0][1:-1]))) # first word in list of source tokens\n",
        "print(''.join(map(lambda x: target_token_dict_inv[x], decoded[9][1:-1]))) # second word in list of source tokens"
      ],
      "execution_count": null,
      "outputs": [
        {
          "output_type": "stream",
          "text": [
            "asteroid\n",
            "menorehkan\n"
          ],
          "name": "stdout"
        }
      ]
    },
    {
      "cell_type": "code",
      "metadata": {
        "id": "Tky5NOJDge--"
      },
      "source": [
        ""
      ],
      "execution_count": null,
      "outputs": []
    }
  ]
}